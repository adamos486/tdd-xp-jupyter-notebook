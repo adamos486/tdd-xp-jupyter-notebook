{
 "cells": [
  {
   "cell_type": "code",
   "execution_count": 2,
   "metadata": {
    "pycharm": {
     "is_executing": false
    }
   },
   "outputs": [
    {
     "name": "stdout",
     "output_type": "stream",
     "text": [
      "accuracy (KNeighborsClassifier): 18.12\n",
      "accuracy (GaussianNB): 12.1\n",
      "accuracy (Perceptron): 0.15\n",
      "accuracy (SGDClassifier): 0.13\n",
      "accuracy (DecisionTreeClassifier): 62.07\n",
      "accuracy (RandomForestClassifier): 62.07\n"
     ]
    }
   ],
   "source": [
    "from sklearn.ensemble import RandomForestClassifier\n",
    "from sklearn.linear_model import SGDClassifier, Perceptron\n",
    "from sklearn.model_selection import train_test_split\n",
    "import pandas as pd\n",
    "from sklearn.naive_bayes import GaussianNB\n",
    "from sklearn.neighbors import KNeighborsClassifier\n",
    "from sklearn.svm import SVC\n",
    "from sklearn.tree import DecisionTreeClassifier\n",
    "from trainer import TrainerImpl\n",
    "\n",
    "from preprocessor import PreprocessorImpl\n",
    "from dataset import DataSet\n",
    "\n",
    "ds: DataSet = DataSet([\n",
    "    \"./2019 - 01.csv\",\n",
    "    \"./2019 - 02.csv\",\n",
    "    \"./2019 - 03.csv\",\n",
    "    \"./2019 - 04.csv\",\n",
    "    \"./2019 - 05.csv\"\n",
    "], PreprocessorImpl(), TrainerImpl())\n",
    "\n",
    "ds.sample(0.005)\n",
    "ds.clean_start_station_ids()\n",
    "ds.create_age_bins(5)\n",
    "ds.enumerate_month()\n",
    "ds.enumerate_gender()\n",
    "ds.enumerate_user_type()\n",
    "ds.drop_columns()\n",
    "model, X_test = ds.train()"
   ]
  },
  {
   "cell_type": "code",
   "execution_count": 29,
   "metadata": {},
   "outputs": [
    {
     "name": "stdout",
     "output_type": "stream",
     "text": [
      "[340 281 406 199 323 341 284 275 202 336 155 203 394 201 502 105 205 162\n",
      " 154 351 312 363 238 280 373 356 281 244 157 125 266 314 188 349 255 224\n",
      " 298 272  88 307 405 373 219 141 240 501 444 256 128 124 310 156 620 110\n",
      "  96 117 186 201 244 148 393 363 269 321 185 148 154 346 239 433 191 169\n",
      " 224 140 436 310 155 245 266 386 130 399 399 229 238 205 272 169 217  93\n",
      " 131 218 305 172 298 669 144 255 227 532 439 463 210 186 156 231 265 196\n",
      " 227 211 302 133 136 552 332 507 394 122 170 212 113 391 176 198 399 188\n",
      " 299 136 117 338 372 279 323 282 215 221 325 187 278 474 177 735 139 230\n",
      " 475 161 372 240 172 289 278 407 452 386 431 196 193 160 155 216  78 225\n",
      " 556 136  90 162 394 141 381 356 284 235 269 265 303 626 246 579 162 245\n",
      " 299 308 218 185 281 413 365 312 298 341 260 172 384 191 333 153 333 465\n",
      " 272 337 212 168 298 407 140 218 487 364 102 349 313 386  74  74 176 157\n",
      " 220 228 190 316 408 301 343 154 199 538 347 265 423 172 221 155 352 243\n",
      " 442 429 308 257 305 445 284 218 276 168 144 364 308 166 131 182 203 170\n",
      " 169 193 135 141 162 327 215 132 283 327 418 276 132 299 248 142 419  94\n",
      " 202 505 469 301 497 419 281 135 394 141 452 350 279 275 333 393 240 213\n",
      " 170 320 302 422 402 131 312 392 229 215 301 251 139 569 244 184 283 444\n",
      " 197 212 298 298 130 867 313 636 186 324 569 186 166 444 191 556 124 507\n",
      " 310 290 200 399 451 187 364 186 259 201 123 333 166 552 335 181 133 350\n",
      " 229 532 125 386 299 138 271 186 201 442 217 175 215 298 222 188 294 435\n",
      " 202 157 198 172 155 569 358 245 135 386 296 291 332 187 209  75 343 205\n",
      " 144 156 225 211 348 266 136 488 102 286  79 354 342 357 313 399 148 257\n",
      " 141 182 468 265 459 155 473 342 111 204 394 346 174 289 337  90 224 163\n",
      " 291 351 413 264 280 377 292 310  79  99 157 121 214 258 186 348 193 121\n",
      " 144 205 214 213 296 151 245 269 288 333 397 225 187 357 327 215 135 248\n",
      " 867 350 433 289 264 379 357 141 227 381 357 300 231 456 481 596 318 135\n",
      " 245 579 160 453 318 272 474 244 545 636  91 141 402 223 100 282 162 328\n",
      " 204 154 351 155 251 209 332 232 313 270 285 216 381 312 322 445 529 321\n",
      " 178 474 245  81 333 140 410 340 331 517 451 170 452 399 263  71 273 125\n",
      " 321 203 343 305 270]\n"
     ]
    }
   ],
   "source": [
    "result = model.predict(X_test)\n",
    "print(result)"
   ]
  },
  {
   "cell_type": "code",
   "execution_count": null,
   "metadata": {},
   "outputs": [],
   "source": []
  },
  {
   "cell_type": "code",
   "execution_count": null,
   "metadata": {},
   "outputs": [],
   "source": []
  }
 ],
 "metadata": {
  "kernelspec": {
   "display_name": "Python 3",
   "language": "python",
   "name": "python3"
  },
  "language_info": {
   "codemirror_mode": {
    "name": "ipython",
    "version": 3
   },
   "file_extension": ".py",
   "mimetype": "text/x-python",
   "name": "python",
   "nbconvert_exporter": "python",
   "pygments_lexer": "ipython3",
   "version": "3.7.2"
  },
  "pycharm": {
   "stem_cell": {
    "cell_type": "raw",
    "metadata": {
     "collapsed": false
    },
    "source": []
   }
  }
 },
 "nbformat": 4,
 "nbformat_minor": 2
}
